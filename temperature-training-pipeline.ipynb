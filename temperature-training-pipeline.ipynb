{
 "cells": [
  {
   "cell_type": "code",
   "execution_count": 1,
   "id": "063d9a22",
   "metadata": {},
   "outputs": [
    {
     "name": "stderr",
     "output_type": "stream",
     "text": [
      "2024-01-05 12:06:27.844950: E external/local_xla/xla/stream_executor/cuda/cuda_dnn.cc:9261] Unable to register cuDNN factory: Attempting to register factory for plugin cuDNN when one has already been registered\n",
      "2024-01-05 12:06:27.845020: E external/local_xla/xla/stream_executor/cuda/cuda_fft.cc:607] Unable to register cuFFT factory: Attempting to register factory for plugin cuFFT when one has already been registered\n",
      "2024-01-05 12:06:27.897310: E external/local_xla/xla/stream_executor/cuda/cuda_blas.cc:1515] Unable to register cuBLAS factory: Attempting to register factory for plugin cuBLAS when one has already been registered\n",
      "2024-01-05 12:06:28.009073: I tensorflow/core/platform/cpu_feature_guard.cc:182] This TensorFlow binary is optimized to use available CPU instructions in performance-critical operations.\n",
      "To enable the following instructions: AVX2 FMA, in other operations, rebuild TensorFlow with the appropriate compiler flags.\n",
      "2024-01-05 12:06:29.092514: W tensorflow/compiler/tf2tensorrt/utils/py_utils.cc:38] TF-TRT Warning: Could not find TensorRT\n"
     ]
    }
   ],
   "source": [
    "import hopsworks\n",
    "import pandas as pd\n",
    "from sklearn.neighbors import KNeighborsRegressor\n",
    "from sklearn.metrics import accuracy_score\n",
    "from sklearn.metrics import confusion_matrix\n",
    "from sklearn.metrics import mean_squared_error\n",
    "from matplotlib import pyplot\n",
    "from hsml.schema import Schema\n",
    "from hsml.model_schema import ModelSchema\n",
    "import joblib\n",
    "import os\n",
    "import matplotlib.pyplot as plt\n",
    "import numpy as np\n",
    "from numpy.lib.stride_tricks import sliding_window_view\n",
    "\n",
    "from sklearn.linear_model import Ridge\n",
    "from sklearn.ensemble import RandomForestRegressor\n",
    "from sklearn.metrics import mean_squared_error\n",
    "from sklearn.metrics import mean_absolute_error\n",
    "from sklearn.preprocessing import StandardScaler\n",
    "\n",
    "# from skforecast.ForecasterAutoreg import ForecasterAutoreg\n",
    "\n",
    "os.environ['CUDA_VISIBLE_DEVICES']='-1'\n",
    "import tensorflow as tf\n",
    "from keras import backend as K\n",
    "from keras.models import Sequential\n",
    "from keras.layers import Dense\n",
    "from keras.layers import MultiHeadAttention\n",
    "from keras.layers import LSTM\n",
    "from keras.layers import Input"
   ]
  },
  {
   "cell_type": "code",
   "execution_count": 2,
   "id": "5ce90341",
   "metadata": {},
   "outputs": [
    {
     "name": "stdout",
     "output_type": "stream",
     "text": [
      "Connected. Call `.close()` to terminate connection gracefully.\n",
      "\n",
      "Logged in to project, explore it here https://c.app.hopsworks.ai:443/p/195733\n",
      "Connected. Call `.close()` to terminate connection gracefully.\n"
     ]
    }
   ],
   "source": [
    "# You have to set the environment variable 'HOPSWORKS_API_KEY' for login to succeed\n",
    "project = hopsworks.login()\n",
    "fs = project.get_feature_store()"
   ]
  },
  {
   "cell_type": "code",
   "execution_count": 3,
   "id": "359ed7b3",
   "metadata": {},
   "outputs": [],
   "source": [
    "weather_fg = fs.get_feature_group(name=\"weather\", version=3)\n",
    "query = weather_fg.select_all()\n",
    "feature_view = fs.get_or_create_feature_view(name=\"weather\",\n",
    "                                             version=3,\n",
    "                                             description=\"Read from Weather\",\n",
    "                                             query=query)"
   ]
  },
  {
   "cell_type": "code",
   "execution_count": 4,
   "id": "42fbcfd3",
   "metadata": {},
   "outputs": [
    {
     "name": "stdout",
     "output_type": "stream",
     "text": [
      "Finished: Reading data from Hopsworks, using ArrowFlight (4.80s) \n"
     ]
    },
    {
     "name": "stderr",
     "output_type": "stream",
     "text": [
      "VersionWarning: Incremented version to `29`.\n"
     ]
    }
   ],
   "source": [
    "# set up dates\n",
    "train_start = \"1996-02-01 22:00:00\"\n",
    "train_end = \"2020-02-01 22:00:00\"\n",
    "test_start = \"2020-02-01 22:00:00\"\n",
    "test_end = \"2024-01-03 08:00:00\"\n",
    "\n",
    "# create a train-test split dataset\n",
    "X_train, X_test, y_train, y_test = feature_view.train_test_split(\n",
    "    train_start=train_start,\n",
    "    train_end=train_end,\n",
    "    test_start=test_start,\n",
    "    test_end=test_end\n",
    ")"
   ]
  },
  {
   "cell_type": "code",
   "execution_count": 5,
   "id": "cd83221f",
   "metadata": {},
   "outputs": [
    {
     "name": "stdout",
     "output_type": "stream",
     "text": [
      "Index(['date_time', 'lufttemperatur', 'vindriktning', 'vindhastighet',\n",
      "       'relativ_luftfuktighet', 'nederbrdsmngd', 'sikt', 'byvind',\n",
      "       'max_av_medelvindhastighet', 'daggpunktstemperatur', 'id'],\n",
      "      dtype='object')\n",
      "Index(['date_time', 'lufttemperatur', 'vindriktning', 'vindhastighet',\n",
      "       'relativ_luftfuktighet', 'nederbrdsmngd', 'sikt', 'byvind',\n",
      "       'max_av_medelvindhastighet', 'daggpunktstemperatur', 'id'],\n",
      "      dtype='object')\n",
      "Index(['lufttemperatur', 'vindriktning', 'vindhastighet',\n",
      "       'relativ_luftfuktighet', 'nederbrdsmngd', 'sikt', 'byvind',\n",
      "       'max_av_medelvindhastighet', 'daggpunktstemperatur'],\n",
      "      dtype='object')\n",
      "Index(['lufttemperatur', 'vindriktning', 'vindhastighet',\n",
      "       'relativ_luftfuktighet', 'nederbrdsmngd', 'sikt', 'byvind',\n",
      "       'max_av_medelvindhastighet', 'daggpunktstemperatur'],\n",
      "      dtype='object')\n"
     ]
    }
   ],
   "source": [
    "print(X_train.columns)\n",
    "print(X_test.columns)\n",
    "# print(y_train.info())\n",
    "# print(y_test.info())\n",
    "# X_train = X_train.reset_index()\n",
    "# X_test = X_test.reset_index()\n",
    "X_train = X_train.set_index(\"date_time\")\n",
    "X_test = X_test.set_index(\"date_time\")\n",
    "X_train = X_train.asfreq('h')\n",
    "X_test = X_test.asfreq('h')\n",
    "X_train = X_train.drop(columns=[\"id\"])\n",
    "X_test = X_test.drop(columns=[\"id\"])\n",
    "print(X_train.columns)\n",
    "print(X_test.columns)"
   ]
  },
  {
   "cell_type": "code",
   "execution_count": 6,
   "id": "72b3061a",
   "metadata": {},
   "outputs": [
    {
     "name": "stdout",
     "output_type": "stream",
     "text": [
      "<class 'pandas.core.frame.DataFrame'>\n",
      "DatetimeIndex: 210384 entries, 1996-02-01 22:00:00+00:00 to 2020-02-01 21:00:00+00:00\n",
      "Freq: H\n",
      "Data columns (total 9 columns):\n",
      " #   Column                     Non-Null Count   Dtype  \n",
      "---  ------                     --------------   -----  \n",
      " 0   lufttemperatur             210384 non-null  float64\n",
      " 1   vindriktning               210384 non-null  float64\n",
      " 2   vindhastighet              210384 non-null  float64\n",
      " 3   relativ_luftfuktighet      210384 non-null  float64\n",
      " 4   nederbrdsmngd              210384 non-null  float64\n",
      " 5   sikt                       210384 non-null  float64\n",
      " 6   byvind                     210384 non-null  float64\n",
      " 7   max_av_medelvindhastighet  210384 non-null  float64\n",
      " 8   daggpunktstemperatur       210384 non-null  float64\n",
      "dtypes: float64(9)\n",
      "memory usage: 16.1 MB\n"
     ]
    }
   ],
   "source": [
    "X_train.info()"
   ]
  },
  {
   "cell_type": "code",
   "execution_count": 7,
   "id": "0be280dc",
   "metadata": {},
   "outputs": [
    {
     "data": {
      "text/html": [
       "<div>\n",
       "<style scoped>\n",
       "    .dataframe tbody tr th:only-of-type {\n",
       "        vertical-align: middle;\n",
       "    }\n",
       "\n",
       "    .dataframe tbody tr th {\n",
       "        vertical-align: top;\n",
       "    }\n",
       "\n",
       "    .dataframe thead th {\n",
       "        text-align: right;\n",
       "    }\n",
       "</style>\n",
       "<table border=\"1\" class=\"dataframe\">\n",
       "  <thead>\n",
       "    <tr style=\"text-align: right;\">\n",
       "      <th></th>\n",
       "      <th>lufttemperatur</th>\n",
       "      <th>vindriktning</th>\n",
       "      <th>vindhastighet</th>\n",
       "      <th>relativ_luftfuktighet</th>\n",
       "      <th>nederbrdsmngd</th>\n",
       "      <th>sikt</th>\n",
       "      <th>byvind</th>\n",
       "      <th>max_av_medelvindhastighet</th>\n",
       "      <th>daggpunktstemperatur</th>\n",
       "    </tr>\n",
       "    <tr>\n",
       "      <th>date_time</th>\n",
       "      <th></th>\n",
       "      <th></th>\n",
       "      <th></th>\n",
       "      <th></th>\n",
       "      <th></th>\n",
       "      <th></th>\n",
       "      <th></th>\n",
       "      <th></th>\n",
       "      <th></th>\n",
       "    </tr>\n",
       "  </thead>\n",
       "  <tbody>\n",
       "    <tr>\n",
       "      <th>1996-02-01 22:00:00+00:00</th>\n",
       "      <td>-7.7</td>\n",
       "      <td>252.0</td>\n",
       "      <td>1.1</td>\n",
       "      <td>98.0</td>\n",
       "      <td>0.0</td>\n",
       "      <td>31066.052812</td>\n",
       "      <td>1.8</td>\n",
       "      <td>2.7</td>\n",
       "      <td>-8.0</td>\n",
       "    </tr>\n",
       "    <tr>\n",
       "      <th>1996-02-01 23:00:00+00:00</th>\n",
       "      <td>-6.7</td>\n",
       "      <td>261.0</td>\n",
       "      <td>1.4</td>\n",
       "      <td>96.0</td>\n",
       "      <td>0.0</td>\n",
       "      <td>31066.225879</td>\n",
       "      <td>2.4</td>\n",
       "      <td>2.1</td>\n",
       "      <td>-7.3</td>\n",
       "    </tr>\n",
       "    <tr>\n",
       "      <th>1996-02-02 00:00:00+00:00</th>\n",
       "      <td>-6.2</td>\n",
       "      <td>252.0</td>\n",
       "      <td>1.1</td>\n",
       "      <td>95.0</td>\n",
       "      <td>0.0</td>\n",
       "      <td>31066.398947</td>\n",
       "      <td>1.9</td>\n",
       "      <td>1.8</td>\n",
       "      <td>-6.9</td>\n",
       "    </tr>\n",
       "    <tr>\n",
       "      <th>1996-02-02 01:00:00+00:00</th>\n",
       "      <td>-5.6</td>\n",
       "      <td>312.0</td>\n",
       "      <td>1.2</td>\n",
       "      <td>93.0</td>\n",
       "      <td>0.0</td>\n",
       "      <td>31066.572015</td>\n",
       "      <td>2.1</td>\n",
       "      <td>1.5</td>\n",
       "      <td>-6.6</td>\n",
       "    </tr>\n",
       "    <tr>\n",
       "      <th>1996-02-02 02:00:00+00:00</th>\n",
       "      <td>-5.5</td>\n",
       "      <td>289.0</td>\n",
       "      <td>0.9</td>\n",
       "      <td>94.0</td>\n",
       "      <td>0.0</td>\n",
       "      <td>31066.745083</td>\n",
       "      <td>2.3</td>\n",
       "      <td>1.4</td>\n",
       "      <td>-6.4</td>\n",
       "    </tr>\n",
       "  </tbody>\n",
       "</table>\n",
       "</div>"
      ],
      "text/plain": [
       "                           lufttemperatur  vindriktning  vindhastighet  \\\n",
       "date_time                                                                \n",
       "1996-02-01 22:00:00+00:00            -7.7         252.0            1.1   \n",
       "1996-02-01 23:00:00+00:00            -6.7         261.0            1.4   \n",
       "1996-02-02 00:00:00+00:00            -6.2         252.0            1.1   \n",
       "1996-02-02 01:00:00+00:00            -5.6         312.0            1.2   \n",
       "1996-02-02 02:00:00+00:00            -5.5         289.0            0.9   \n",
       "\n",
       "                           relativ_luftfuktighet  nederbrdsmngd          sikt  \\\n",
       "date_time                                                                       \n",
       "1996-02-01 22:00:00+00:00                   98.0            0.0  31066.052812   \n",
       "1996-02-01 23:00:00+00:00                   96.0            0.0  31066.225879   \n",
       "1996-02-02 00:00:00+00:00                   95.0            0.0  31066.398947   \n",
       "1996-02-02 01:00:00+00:00                   93.0            0.0  31066.572015   \n",
       "1996-02-02 02:00:00+00:00                   94.0            0.0  31066.745083   \n",
       "\n",
       "                           byvind  max_av_medelvindhastighet  \\\n",
       "date_time                                                      \n",
       "1996-02-01 22:00:00+00:00     1.8                        2.7   \n",
       "1996-02-01 23:00:00+00:00     2.4                        2.1   \n",
       "1996-02-02 00:00:00+00:00     1.9                        1.8   \n",
       "1996-02-02 01:00:00+00:00     2.1                        1.5   \n",
       "1996-02-02 02:00:00+00:00     2.3                        1.4   \n",
       "\n",
       "                           daggpunktstemperatur  \n",
       "date_time                                        \n",
       "1996-02-01 22:00:00+00:00                  -8.0  \n",
       "1996-02-01 23:00:00+00:00                  -7.3  \n",
       "1996-02-02 00:00:00+00:00                  -6.9  \n",
       "1996-02-02 01:00:00+00:00                  -6.6  \n",
       "1996-02-02 02:00:00+00:00                  -6.4  "
      ]
     },
     "execution_count": 7,
     "metadata": {},
     "output_type": "execute_result"
    }
   ],
   "source": [
    "X_train.head()"
   ]
  },
  {
   "cell_type": "code",
   "execution_count": 8,
   "id": "4c4229b4",
   "metadata": {},
   "outputs": [
    {
     "name": "stdout",
     "output_type": "stream",
     "text": [
      "(210360, 216) (210360, 9)\n",
      "(34330, 216) (34330, 9)\n",
      "[-1.54069061 -1.48233325 -1.41230442 -1.40063294 -1.38896147 -1.37729\n",
      " -1.37729    -1.41230442 -1.42397589 -1.40063294 -1.33060411 -1.36561853\n",
      " -1.06216026 -0.89875965 -0.85207376 -0.88708818 -0.95711701 -1.10884615\n",
      " -1.01547437 -1.01547437 -1.03881731 -1.0855032  -1.07383173 -1.07383173]\n",
      "-1.0738317298685902\n"
     ]
    },
    {
     "data": {
      "text/plain": [
       "(array([22, 23]),)"
      ]
     },
     "execution_count": 8,
     "metadata": {},
     "output_type": "execute_result"
    }
   ],
   "source": [
    "scaler = StandardScaler()\n",
    "scaler.fit(X_train.values)\n",
    "\n",
    "window_size = 24\n",
    "\n",
    "training_window = sliding_window_view(scaler.transform(X_train.values), (window_size, 1))\n",
    "training_data = training_window[:-1]\n",
    "training_target = training_window[1:, :, -1]\n",
    "test_window = sliding_window_view(scaler.transform(X_test.values), (window_size, 1))\n",
    "test_data = test_window[:-1]\n",
    "test_target = test_window[1:, :, -1]\n",
    "\n",
    "training_data = training_data.reshape((training_data.shape[0], -1))\n",
    "training_target = training_target.reshape((training_target.shape[0], -1))\n",
    "test_data = test_data.reshape((test_data.shape[0], -1))\n",
    "test_target = test_target.reshape((test_target.shape[0], -1))\n",
    "\n",
    "print(training_data.shape, training_target.shape)\n",
    "print(test_data.shape, test_target.shape)\n",
    "# training_data = training_data.reshape((training_data.shape[0], 1, -1))\n",
    "# training_target = training_target.reshape((training_target.shape[0], 1, -1))\n",
    "# test_data = test_data.reshape((test_data.shape[0], 1, -1))\n",
    "# test_target = test_target.reshape((test_target.shape[0], 1, -1))\n",
    "print(training_data[1, 0:24])\n",
    "print(training_target[0, 0])\n",
    "np.where(training_data[1] == training_target[0, 0])"
   ]
  },
  {
   "cell_type": "code",
   "execution_count": 9,
   "id": "99e85761",
   "metadata": {},
   "outputs": [
    {
     "name": "stdout",
     "output_type": "stream",
     "text": [
      "(210360, 216)\n",
      "[-1.54069061 -1.48233325 -1.41230442 -1.40063294 -1.38896147 -1.37729\n",
      " -1.37729    -1.41230442 -1.42397589 -1.40063294 -1.33060411 -1.36561853\n",
      " -1.06216026 -0.89875965 -0.85207376 -0.88708818 -0.95711701 -1.10884615\n",
      " -1.01547437 -1.01547437 -1.03881731 -1.0855032  -1.07383173 -1.07383173\n",
      "  0.8016186   0.71917978  1.26877196  1.05809496  1.38327033  1.7084457\n",
      "  1.46112922 -1.58910738  0.60010147 -1.58910738 -1.58910738 -1.58910738\n",
      " -0.59068159 -0.67312041 -0.59068159 -0.67312041 -0.78303885 -0.50824276\n",
      " -0.9204369  -0.83799807 -0.6181612  -0.50824276 -0.68228028 -0.68228028\n",
      " -0.75013589 -0.90352056 -0.85239233 -1.005777   -0.90352056 -0.80126411\n",
      " -0.34111011 -1.465931   -1.05690522 -1.465931   -1.465931   -1.465931\n",
      " -0.59675122 -0.69900767 -0.23885367 -0.39223833 -0.69900767 -1.15916167\n",
      " -0.34111011 -0.34111011 -0.13659722 -0.545623   -0.64787944 -0.75013589\n",
      "  0.90128809  0.84203551  0.72353034  0.78278292  0.78278292  0.78278292\n",
      "  0.78278292  0.90128809  0.96054067  0.96054067  0.84203551  0.78278292\n",
      "  0.78278292  0.60502517  0.1310045   0.01249933  0.07175192  0.54577259\n",
      "  0.48652     0.54577259  0.54577259  0.66427775  0.78278292  1.07904584\n",
      " -0.16295775 -0.16295775 -0.16295775 -0.16295775 -0.16295775 -0.16295775\n",
      " -0.16295775 -0.16295775 -0.16295775 -0.16295775 -0.16295775 -0.16295775\n",
      " -0.16295775 -0.16295775 -0.16295775 -0.16295775 -0.16295775 -0.16295775\n",
      " -0.16295775 -0.16295775 -0.16295775 -0.16295775 -0.16295775 -0.16295775\n",
      "  0.15751493  0.1575249   0.15753487  0.15754484  0.15755481  0.15756478\n",
      "  0.15757475  0.15758472  0.1575947   0.15760467  0.15761464  0.15762461\n",
      "  0.15763458  0.15764455  0.15765452  0.15766449  0.15767446  0.15768443\n",
      "  0.1576944   0.15770437  0.15771435  0.15772432  0.15773429  0.15774426\n",
      " -0.96010164 -1.1081007  -1.04890108 -0.98970145 -0.91570193 -0.8417024\n",
      " -0.48650468 -1.19690013 -1.31529937 -1.37449899 -1.4040988  -1.37449899\n",
      " -0.81210259 -0.78250278 -0.42730506 -0.45690487 -0.78250278 -0.98970145\n",
      " -0.60490392 -0.5457043  -0.39770524 -0.57530411 -0.90090202 -0.75290297\n",
      " -0.93846892 -1.08236244 -1.22625596 -1.27422047 -1.22625596 -1.17829145\n",
      " -0.89050441 -0.89050441 -0.89050441 -0.98643342 -1.32218498 -1.65793653\n",
      " -1.03439793 -0.81855765 -0.60271736 -0.60271736 -0.60271736 -0.60271736\n",
      " -0.8425399  -0.77059314 -0.69864638 -0.69864638 -0.77059314 -0.8425399\n",
      " -1.3689724  -1.31565083 -1.27565964 -1.24899885 -1.22900326 -1.20900767\n",
      " -1.20900767 -1.20900767 -1.20900767 -1.18234688 -1.1423557  -1.19567728\n",
      " -0.84908702 -0.72911347 -0.83575663 -0.91573899 -0.98239097 -0.98239097\n",
      " -0.9024086  -0.87574781 -0.9024086  -0.91573899 -0.86241742 -0.78243505]\n"
     ]
    }
   ],
   "source": [
    "print(training_data.shape)\n",
    "print(training_data[1])"
   ]
  },
  {
   "cell_type": "code",
   "execution_count": 10,
   "id": "730414fe",
   "metadata": {},
   "outputs": [
    {
     "name": "stdout",
     "output_type": "stream",
     "text": [
      "(210360, 9)\n",
      "[-1.07383173 -0.68228028 -0.75013589  1.07904584 -0.16295775  0.15774426\n",
      " -0.75290297 -0.8425399  -0.78243505]\n"
     ]
    }
   ],
   "source": [
    "print(training_target.shape)\n",
    "print(training_target[0])"
   ]
  },
  {
   "cell_type": "code",
   "execution_count": 11,
   "id": "977f9f94",
   "metadata": {},
   "outputs": [],
   "source": [
    "#forecaster = ForecasterAutoreg(\n",
    "#                 regressor = RandomForestRegressor(random_state=123),\n",
    "#                 lags      = 6,\n",
    "#             )\n",
    "\n",
    "#reg = RandomForestRegressor(random_state=123)\n",
    "\n",
    "#forecaster.fit(y=X_train['combine'])\n",
    "#forecaster\n",
    "\n",
    "#reg.fit(training_data, training_target)"
   ]
  },
  {
   "cell_type": "code",
   "execution_count": 12,
   "id": "2075ffe0",
   "metadata": {},
   "outputs": [
    {
     "name": "stdout",
     "output_type": "stream",
     "text": [
      "Model: \"sequential\"\n",
      "_________________________________________________________________\n",
      " Layer (type)                Output Shape              Param #   \n",
      "=================================================================\n",
      " dense (Dense)               (None, 150)               32550     \n",
      "                                                                 \n",
      " dense_1 (Dense)             (None, 100)               15100     \n",
      "                                                                 \n",
      " dense_2 (Dense)             (None, 50)                5050      \n",
      "                                                                 \n",
      " dense_3 (Dense)             (None, 9)                 459       \n",
      "                                                                 \n",
      "=================================================================\n",
      "Total params: 53159 (207.65 KB)\n",
      "Trainable params: 53159 (207.65 KB)\n",
      "Non-trainable params: 0 (0.00 Byte)\n",
      "_________________________________________________________________\n"
     ]
    },
    {
     "name": "stderr",
     "output_type": "stream",
     "text": [
      "2024-01-05 12:06:46.332992: E external/local_xla/xla/stream_executor/cuda/cuda_driver.cc:274] failed call to cuInit: CUDA_ERROR_NO_DEVICE: no CUDA-capable device is detected\n",
      "2024-01-05 12:06:46.333024: I external/local_xla/xla/stream_executor/cuda/cuda_diagnostics.cc:129] retrieving CUDA diagnostic information for host: Arch-Beast\n",
      "2024-01-05 12:06:46.333031: I external/local_xla/xla/stream_executor/cuda/cuda_diagnostics.cc:136] hostname: Arch-Beast\n",
      "2024-01-05 12:06:46.333179: I external/local_xla/xla/stream_executor/cuda/cuda_diagnostics.cc:159] libcuda reported version is: 545.29.6\n",
      "2024-01-05 12:06:46.333200: I external/local_xla/xla/stream_executor/cuda/cuda_diagnostics.cc:163] kernel reported version is: 545.29.6\n",
      "2024-01-05 12:06:46.333206: I external/local_xla/xla/stream_executor/cuda/cuda_diagnostics.cc:241] kernel version seems to match DSO: 545.29.6\n"
     ]
    }
   ],
   "source": [
    "# design network\n",
    "model = Sequential()\n",
    "model.add(Input(shape=(training_data.shape[1])))\n",
    "model.add(Dense(150, activation=\"relu\"))\n",
    "model.add(Dense(100, activation=\"relu\"))\n",
    "model.add(Dense(50, activation=\"relu\"))\n",
    "model.add(Dense(9))\n",
    "model.compile(loss='mae', optimizer='adam')\n",
    "model.summary()"
   ]
  },
  {
   "cell_type": "code",
   "execution_count": 13,
   "id": "0ba6e208",
   "metadata": {},
   "outputs": [
    {
     "name": "stdout",
     "output_type": "stream",
     "text": [
      "Epoch 1/100\n",
      "1052/1052 - 3s - loss: 0.3328 - val_loss: 0.2836 - 3s/epoch - 3ms/step\n",
      "Epoch 2/100\n",
      "1052/1052 - 2s - loss: 0.2598 - val_loss: 0.2467 - 2s/epoch - 2ms/step\n",
      "Epoch 3/100\n",
      "1052/1052 - 2s - loss: 0.2428 - val_loss: 0.2442 - 2s/epoch - 2ms/step\n",
      "Epoch 4/100\n",
      "1052/1052 - 2s - loss: 0.2333 - val_loss: 0.2372 - 2s/epoch - 2ms/step\n",
      "Epoch 5/100\n",
      "1052/1052 - 2s - loss: 0.2280 - val_loss: 0.2482 - 2s/epoch - 2ms/step\n",
      "Epoch 6/100\n",
      "1052/1052 - 2s - loss: 0.2281 - val_loss: 0.2347 - 2s/epoch - 2ms/step\n",
      "Epoch 7/100\n",
      "1052/1052 - 2s - loss: 0.2212 - val_loss: 0.2301 - 2s/epoch - 2ms/step\n",
      "Epoch 8/100\n",
      "1052/1052 - 2s - loss: 0.2194 - val_loss: 0.2290 - 2s/epoch - 2ms/step\n",
      "Epoch 9/100\n",
      "1052/1052 - 2s - loss: 0.2196 - val_loss: 0.2279 - 2s/epoch - 2ms/step\n",
      "Epoch 10/100\n",
      "1052/1052 - 2s - loss: 0.2161 - val_loss: 0.2289 - 2s/epoch - 2ms/step\n",
      "Epoch 11/100\n",
      "1052/1052 - 2s - loss: 0.2156 - val_loss: 0.2260 - 2s/epoch - 2ms/step\n",
      "Epoch 12/100\n",
      "1052/1052 - 2s - loss: 0.2136 - val_loss: 0.2242 - 2s/epoch - 2ms/step\n",
      "Epoch 13/100\n",
      "1052/1052 - 2s - loss: 0.2104 - val_loss: 0.2239 - 2s/epoch - 2ms/step\n",
      "Epoch 14/100\n",
      "1052/1052 - 2s - loss: 0.2120 - val_loss: 0.2243 - 2s/epoch - 2ms/step\n",
      "Epoch 15/100\n",
      "1052/1052 - 2s - loss: 0.2106 - val_loss: 0.2193 - 2s/epoch - 2ms/step\n",
      "Epoch 16/100\n",
      "1052/1052 - 2s - loss: 0.2089 - val_loss: 0.2281 - 2s/epoch - 2ms/step\n",
      "Epoch 17/100\n",
      "1052/1052 - 2s - loss: 0.2082 - val_loss: 0.2262 - 2s/epoch - 2ms/step\n",
      "Epoch 18/100\n",
      "1052/1052 - 2s - loss: 0.2079 - val_loss: 0.2292 - 2s/epoch - 2ms/step\n",
      "Epoch 19/100\n",
      "1052/1052 - 2s - loss: 0.2094 - val_loss: 0.2176 - 2s/epoch - 2ms/step\n",
      "Epoch 20/100\n",
      "1052/1052 - 2s - loss: 0.2052 - val_loss: 0.2271 - 2s/epoch - 2ms/step\n",
      "Epoch 21/100\n",
      "1052/1052 - 2s - loss: 0.2053 - val_loss: 0.2158 - 2s/epoch - 2ms/step\n",
      "Epoch 22/100\n",
      "1052/1052 - 2s - loss: 0.2044 - val_loss: 0.2133 - 2s/epoch - 2ms/step\n",
      "Epoch 23/100\n",
      "1052/1052 - 2s - loss: 0.2029 - val_loss: 0.2166 - 2s/epoch - 2ms/step\n",
      "Epoch 24/100\n",
      "1052/1052 - 2s - loss: 0.2029 - val_loss: 0.2181 - 2s/epoch - 2ms/step\n",
      "Epoch 25/100\n",
      "1052/1052 - 2s - loss: 0.2027 - val_loss: 0.2236 - 2s/epoch - 2ms/step\n",
      "Epoch 26/100\n",
      "1052/1052 - 2s - loss: 0.2031 - val_loss: 0.2161 - 2s/epoch - 2ms/step\n",
      "Epoch 27/100\n",
      "1052/1052 - 2s - loss: 0.2021 - val_loss: 0.2104 - 2s/epoch - 2ms/step\n",
      "Epoch 28/100\n",
      "1052/1052 - 2s - loss: 0.2006 - val_loss: 0.2269 - 2s/epoch - 2ms/step\n",
      "Epoch 29/100\n",
      "1052/1052 - 2s - loss: 0.1991 - val_loss: 0.2184 - 2s/epoch - 2ms/step\n",
      "Epoch 30/100\n",
      "1052/1052 - 2s - loss: 0.2018 - val_loss: 0.2175 - 2s/epoch - 2ms/step\n",
      "Epoch 31/100\n",
      "1052/1052 - 2s - loss: 0.2001 - val_loss: 0.2220 - 2s/epoch - 2ms/step\n",
      "Epoch 32/100\n",
      "1052/1052 - 2s - loss: 0.1993 - val_loss: 0.2127 - 2s/epoch - 2ms/step\n",
      "Epoch 33/100\n",
      "1052/1052 - 2s - loss: 0.1973 - val_loss: 0.2131 - 2s/epoch - 2ms/step\n",
      "Epoch 34/100\n",
      "1052/1052 - 2s - loss: 0.1966 - val_loss: 0.2178 - 2s/epoch - 2ms/step\n",
      "Epoch 35/100\n",
      "1052/1052 - 2s - loss: 0.1980 - val_loss: 0.2162 - 2s/epoch - 2ms/step\n",
      "Epoch 36/100\n",
      "1052/1052 - 2s - loss: 0.1977 - val_loss: 0.2194 - 2s/epoch - 2ms/step\n",
      "Epoch 37/100\n",
      "1052/1052 - 2s - loss: 0.1965 - val_loss: 0.2180 - 2s/epoch - 2ms/step\n",
      "Epoch 38/100\n",
      "1052/1052 - 2s - loss: 0.1964 - val_loss: 0.2102 - 2s/epoch - 2ms/step\n",
      "Epoch 39/100\n",
      "1052/1052 - 2s - loss: 0.1961 - val_loss: 0.2160 - 2s/epoch - 2ms/step\n",
      "Epoch 40/100\n",
      "1052/1052 - 2s - loss: 0.1944 - val_loss: 0.2185 - 2s/epoch - 2ms/step\n",
      "Epoch 41/100\n",
      "1052/1052 - 2s - loss: 0.1955 - val_loss: 0.2117 - 2s/epoch - 2ms/step\n",
      "Epoch 42/100\n",
      "1052/1052 - 2s - loss: 0.1944 - val_loss: 0.2112 - 2s/epoch - 2ms/step\n",
      "Epoch 43/100\n",
      "1052/1052 - 2s - loss: 0.1954 - val_loss: 0.2161 - 2s/epoch - 2ms/step\n",
      "Epoch 44/100\n",
      "1052/1052 - 2s - loss: 0.1949 - val_loss: 0.2167 - 2s/epoch - 2ms/step\n",
      "Epoch 45/100\n",
      "1052/1052 - 2s - loss: 0.1957 - val_loss: 0.2139 - 2s/epoch - 2ms/step\n",
      "Epoch 46/100\n",
      "1052/1052 - 2s - loss: 0.1955 - val_loss: 0.2141 - 2s/epoch - 2ms/step\n",
      "Epoch 47/100\n",
      "1052/1052 - 2s - loss: 0.1933 - val_loss: 0.2073 - 2s/epoch - 2ms/step\n",
      "Epoch 48/100\n",
      "1052/1052 - 2s - loss: 0.1932 - val_loss: 0.2121 - 2s/epoch - 2ms/step\n",
      "Epoch 49/100\n",
      "1052/1052 - 2s - loss: 0.1952 - val_loss: 0.2100 - 2s/epoch - 2ms/step\n",
      "Epoch 50/100\n",
      "1052/1052 - 2s - loss: 0.1926 - val_loss: 0.2141 - 2s/epoch - 2ms/step\n",
      "Epoch 51/100\n",
      "1052/1052 - 2s - loss: 0.1931 - val_loss: 0.2066 - 2s/epoch - 2ms/step\n",
      "Epoch 52/100\n",
      "1052/1052 - 2s - loss: 0.1917 - val_loss: 0.2111 - 2s/epoch - 2ms/step\n",
      "Epoch 53/100\n",
      "1052/1052 - 2s - loss: 0.1929 - val_loss: 0.2044 - 2s/epoch - 2ms/step\n",
      "Epoch 54/100\n",
      "1052/1052 - 2s - loss: 0.1920 - val_loss: 0.2113 - 2s/epoch - 2ms/step\n",
      "Epoch 55/100\n",
      "1052/1052 - 2s - loss: 0.1913 - val_loss: 0.2077 - 2s/epoch - 2ms/step\n",
      "Epoch 56/100\n",
      "1052/1052 - 2s - loss: 0.1910 - val_loss: 0.2157 - 2s/epoch - 2ms/step\n",
      "Epoch 57/100\n",
      "1052/1052 - 2s - loss: 0.1929 - val_loss: 0.2045 - 2s/epoch - 2ms/step\n",
      "Epoch 58/100\n",
      "1052/1052 - 2s - loss: 0.1904 - val_loss: 0.2131 - 2s/epoch - 2ms/step\n",
      "Epoch 59/100\n",
      "1052/1052 - 2s - loss: 0.1901 - val_loss: 0.2071 - 2s/epoch - 2ms/step\n",
      "Epoch 60/100\n",
      "1052/1052 - 2s - loss: 0.1912 - val_loss: 0.2098 - 2s/epoch - 2ms/step\n",
      "Epoch 61/100\n",
      "1052/1052 - 2s - loss: 0.1906 - val_loss: 0.2083 - 2s/epoch - 2ms/step\n",
      "Epoch 62/100\n",
      "1052/1052 - 2s - loss: 0.1905 - val_loss: 0.2083 - 2s/epoch - 2ms/step\n",
      "Epoch 63/100\n",
      "1052/1052 - 2s - loss: 0.1893 - val_loss: 0.2089 - 2s/epoch - 2ms/step\n",
      "Epoch 64/100\n",
      "1052/1052 - 2s - loss: 0.1903 - val_loss: 0.2064 - 2s/epoch - 2ms/step\n",
      "Epoch 65/100\n",
      "1052/1052 - 2s - loss: 0.1910 - val_loss: 0.2080 - 2s/epoch - 2ms/step\n",
      "Epoch 66/100\n",
      "1052/1052 - 2s - loss: 0.1894 - val_loss: 0.2106 - 2s/epoch - 2ms/step\n",
      "Epoch 67/100\n",
      "1052/1052 - 2s - loss: 0.1910 - val_loss: 0.2128 - 2s/epoch - 2ms/step\n",
      "Epoch 68/100\n",
      "1052/1052 - 2s - loss: 0.1894 - val_loss: 0.2075 - 2s/epoch - 2ms/step\n",
      "Epoch 69/100\n",
      "1052/1052 - 2s - loss: 0.1900 - val_loss: 0.2107 - 2s/epoch - 2ms/step\n",
      "Epoch 70/100\n",
      "1052/1052 - 2s - loss: 0.1884 - val_loss: 0.2092 - 2s/epoch - 2ms/step\n",
      "Epoch 71/100\n",
      "1052/1052 - 2s - loss: 0.1903 - val_loss: 0.2059 - 2s/epoch - 2ms/step\n",
      "Epoch 72/100\n",
      "1052/1052 - 2s - loss: 0.1893 - val_loss: 0.2124 - 2s/epoch - 2ms/step\n",
      "Epoch 73/100\n",
      "1052/1052 - 2s - loss: 0.1911 - val_loss: 0.2076 - 2s/epoch - 2ms/step\n",
      "Epoch 74/100\n",
      "1052/1052 - 2s - loss: 0.1885 - val_loss: 0.2079 - 2s/epoch - 2ms/step\n",
      "Epoch 75/100\n",
      "1052/1052 - 2s - loss: 0.1885 - val_loss: 0.2054 - 2s/epoch - 2ms/step\n",
      "Epoch 76/100\n",
      "1052/1052 - 2s - loss: 0.1873 - val_loss: 0.2090 - 2s/epoch - 2ms/step\n",
      "Epoch 77/100\n",
      "1052/1052 - 2s - loss: 0.1889 - val_loss: 0.2072 - 2s/epoch - 2ms/step\n",
      "Epoch 78/100\n",
      "1052/1052 - 2s - loss: 0.1876 - val_loss: 0.2099 - 2s/epoch - 2ms/step\n",
      "Epoch 79/100\n",
      "1052/1052 - 2s - loss: 0.1887 - val_loss: 0.2045 - 2s/epoch - 2ms/step\n",
      "Epoch 80/100\n",
      "1052/1052 - 2s - loss: 0.1885 - val_loss: 0.2113 - 2s/epoch - 2ms/step\n",
      "Epoch 81/100\n",
      "1052/1052 - 2s - loss: 0.1874 - val_loss: 0.2044 - 2s/epoch - 2ms/step\n",
      "Epoch 82/100\n",
      "1052/1052 - 2s - loss: 0.1881 - val_loss: 0.2063 - 2s/epoch - 2ms/step\n",
      "Epoch 83/100\n",
      "1052/1052 - 2s - loss: 0.1880 - val_loss: 0.2072 - 2s/epoch - 2ms/step\n",
      "Epoch 84/100\n",
      "1052/1052 - 2s - loss: 0.1886 - val_loss: 0.2052 - 2s/epoch - 2ms/step\n",
      "Epoch 85/100\n",
      "1052/1052 - 2s - loss: 0.1883 - val_loss: 0.2060 - 2s/epoch - 2ms/step\n",
      "Epoch 86/100\n",
      "1052/1052 - 2s - loss: 0.1875 - val_loss: 0.2079 - 2s/epoch - 2ms/step\n",
      "Epoch 87/100\n",
      "1052/1052 - 2s - loss: 0.1868 - val_loss: 0.2071 - 2s/epoch - 2ms/step\n",
      "Epoch 88/100\n",
      "1052/1052 - 2s - loss: 0.1871 - val_loss: 0.2097 - 2s/epoch - 2ms/step\n",
      "Epoch 89/100\n",
      "1052/1052 - 2s - loss: 0.1871 - val_loss: 0.2082 - 2s/epoch - 2ms/step\n",
      "Epoch 90/100\n",
      "1052/1052 - 2s - loss: 0.1865 - val_loss: 0.2094 - 2s/epoch - 2ms/step\n",
      "Epoch 91/100\n",
      "1052/1052 - 2s - loss: 0.1876 - val_loss: 0.2072 - 2s/epoch - 2ms/step\n",
      "Epoch 92/100\n",
      "1052/1052 - 2s - loss: 0.1882 - val_loss: 0.2072 - 2s/epoch - 2ms/step\n",
      "Epoch 93/100\n",
      "1052/1052 - 2s - loss: 0.1864 - val_loss: 0.2062 - 2s/epoch - 2ms/step\n",
      "Epoch 94/100\n",
      "1052/1052 - 2s - loss: 0.1851 - val_loss: 0.2107 - 2s/epoch - 2ms/step\n",
      "Epoch 95/100\n",
      "1052/1052 - 2s - loss: 0.1866 - val_loss: 0.2024 - 2s/epoch - 2ms/step\n",
      "Epoch 96/100\n",
      "1052/1052 - 2s - loss: 0.1859 - val_loss: 0.2076 - 2s/epoch - 2ms/step\n",
      "Epoch 97/100\n",
      "1052/1052 - 2s - loss: 0.1866 - val_loss: 0.2079 - 2s/epoch - 2ms/step\n",
      "Epoch 98/100\n",
      "1052/1052 - 2s - loss: 0.1868 - val_loss: 0.2066 - 2s/epoch - 2ms/step\n",
      "Epoch 99/100\n",
      "1052/1052 - 2s - loss: 0.1857 - val_loss: 0.2077 - 2s/epoch - 2ms/step\n",
      "Epoch 100/100\n",
      "1052/1052 - 2s - loss: 0.1856 - val_loss: 0.2081 - 2s/epoch - 2ms/step\n"
     ]
    },
    {
     "data": {
      "image/png": "[encoded data removed]",
      "text/plain": [
       "<Figure size 640x480 with 1 Axes>"
      ]
     },
     "metadata": {},
     "output_type": "display_data"
    }
   ],
   "source": [
    "# fit network\n",
    "history = model.fit(training_data, training_target, epochs=100, batch_size=200, validation_data=(test_data, test_target), verbose=2, shuffle=False)\n",
    "# plot history\n",
    "plt.plot(history.history['loss'], label='train')\n",
    "plt.plot(history.history['val_loss'], label='test')\n",
    "plt.legend()\n",
    "plt.show()"
   ]
  },
  {
   "cell_type": "code",
   "execution_count": 14,
   "id": "77aa0aee",
   "metadata": {},
   "outputs": [
    {
     "name": "stdout",
     "output_type": "stream",
     "text": [
      "1073/1073 [==============================] - 1s 776us/step\n",
      "[Total] Test error (MSE): 10893225.831274714\n",
      "[Temp] Test error (MSE): 1.5224744432456796\n",
      "[[-0.59516907  0.9365275   0.7152378  -0.9191023  -0.1625941   1.2666101\n",
      "   0.6071598   0.6394963  -0.98356056]\n",
      " [-0.575114    1.0670846   0.50230986 -0.8900789  -0.16252829  1.240046\n",
      "   0.36984175  0.4646569  -0.9476423 ]\n",
      " [-0.8356496   1.0390114  -0.48211965 -0.27776104 -0.16097094  1.2160084\n",
      "  -0.5516797   0.41133326 -0.9543909 ]\n",
      " [-0.8699864   1.1040274  -0.33520126 -0.12109008 -0.16255637  1.2162215\n",
      "  -0.4818359  -0.13362117 -0.9480119 ]\n",
      " [-0.9581654   0.99053943 -0.31665188  0.17420198 -0.16331086  1.1897099\n",
      "  -0.47983873 -0.52142894 -0.9479805 ]]\n",
      "[[-0.56028696  1.09473443  0.27242856 -0.87628943 -0.16295775  1.24833109\n",
      "   0.49028907  0.54843082 -0.92906939]\n",
      " [-0.66533021  1.25045222 -0.64787944 -0.63927909 -0.16295775  1.24833109\n",
      "   0.25349059  0.50046631 -0.92906939]\n",
      " [-0.78204493  1.12221404 -0.34111011 -0.28376359 -0.16295775  1.24833109\n",
      "  -0.45690487 -0.02714327 -0.92906939]\n",
      " [-0.86374523  0.92069691 -0.03434078  0.01249933 -0.16295775  1.24833109\n",
      "  -0.51610449 -0.2190013  -0.8890782 ]\n",
      " [-0.99213143  0.76497913  0.06791567  0.48652    -0.16295775  1.24833109\n",
      "  -0.5457043  -0.50678835 -0.86241742]]\n"
     ]
    }
   ],
   "source": [
    "#predictions = forecaster.predict(steps=4, exog=X_test.drop(columns=[\"lufttemperatur\"]))\n",
    "predictions = model.predict(test_data)\n",
    "y_true = scaler.inverse_transform(test_target.reshape(predictions.shape))\n",
    "y_pred = scaler.inverse_transform(predictions)\n",
    "error_mse = mean_squared_error(\n",
    "                 y_true = y_true,\n",
    "                 y_pred = y_pred\n",
    "             )\n",
    "print(f\"[Total] Test error (MSE): {error_mse}\")\n",
    "error_mse = mean_squared_error(\n",
    "                 y_true = y_true[:, 0],\n",
    "                 y_pred = y_pred[:, 0]\n",
    "             )\n",
    "print(f\"[Temp] Test error (MSE): {error_mse}\")\n",
    "\n",
    "print(predictions[:5])\n",
    "print(test_target[:5])\n",
    "# error_mse = 0\n",
    "# y_true = X_test[\"lufttemperatur\"]\n",
    "# for i in range(len(y_true)-4):\n",
    "#     for s in range(4):\n",
    "#         error_mse += (y_true[i+s] - predictions[i][s])**2 / (len(y_true) * 4)\n"
   ]
  },
  {
   "cell_type": "code",
   "execution_count": 15,
   "id": "b0cfdd25",
   "metadata": {},
   "outputs": [
    {
     "data": {
      "image/png": "[encoded data removed]",
      "text/plain": [
       "<Figure size 1500x400 with 1 Axes>"
      ]
     },
     "metadata": {},
     "output_type": "display_data"
    }
   ],
   "source": [
    "fig, ax = plt.subplots(figsize=(15, 4))\n",
    "#training_target[:, 0].plot(ax=ax, label='train')\n",
    "ax.plot(y_true[-24*15:, 0], label='test')\n",
    "ax.plot(y_pred[-24*15:, 0], label='pred')\n",
    "ax.legend();"
   ]
  },
  {
   "cell_type": "code",
   "execution_count": 16,
   "id": "71d0561b",
   "metadata": {},
   "outputs": [
    {
     "name": "stdout",
     "output_type": "stream",
     "text": [
      "data shape (72, 9)\n",
      "test_target shape (34330, 9)\n",
      "[Total] Test error (MSE): 8739633.127827927\n",
      "[Temp] Test error (MSE): 7.902411090546946\n"
     ]
    }
   ],
   "source": [
    "duration = 24*2\n",
    "data = scaler.transform(X_test.values)[:window_size]\n",
    "runup = scaler.inverse_transform(data.copy())\n",
    "for _ in range(duration):\n",
    "    # window = sliding_window_view(data, (window_size, 1))\n",
    "    inp = data[-window_size:].flatten('F').reshape((1, -1))\n",
    "    #print(\"data shape\", data.shape)\n",
    "    #print(\"inp shape\", inp.shape)\n",
    "    res = model.predict(inp, verbose=0)\n",
    "    #print(\"res shape\", res.shape)\n",
    "    data = np.concatenate((data, res), axis=0)\n",
    "print(\"data shape\", data.shape)\n",
    "print(\"test_target shape\", test_target.shape)\n",
    "\n",
    "#y_true = scaler.inverse_transform(test_target[window_size+1:window_size+duration+1])\n",
    "y_true = X_test.values[window_size:window_size+duration]\n",
    "y_pred = scaler.inverse_transform(data[window_size:])\n",
    "\n",
    "error_mse = mean_squared_error(\n",
    "                 y_true = y_true,\n",
    "                 y_pred = y_pred\n",
    "             )\n",
    "print(f\"[Total] Test error (MSE): {error_mse}\")\n",
    "error_mse = mean_squared_error(\n",
    "                 y_true = y_true[:, 0],\n",
    "                 y_pred = y_pred[:, 0]\n",
    "             )\n",
    "print(f\"[Temp] Test error (MSE): {error_mse}\")"
   ]
  },
  {
   "cell_type": "code",
   "execution_count": 17,
   "id": "7cd817b9",
   "metadata": {},
   "outputs": [
    {
     "data": {
      "image/png": "[encoded data removed]",
      "text/plain": [
       "<Figure size 1500x400 with 1 Axes>"
      ]
     },
     "metadata": {},
     "output_type": "display_data"
    }
   ],
   "source": [
    "fig, ax = plt.subplots(figsize=(15, 4))\n",
    "#training_target[:, 0].plot(ax=ax, label='train')\n",
    "runup_range = range(runup.shape[0])\n",
    "pred_range = range(runup.shape[0], runup.shape[0]+y_pred.shape[0])\n",
    "ax.plot(runup_range, runup[:, 0], label='runup')\n",
    "ax.plot(pred_range, y_true[:, 0], label='target')\n",
    "ax.plot(pred_range, y_pred[:, 0], label='pred')\n",
    "ax.legend();"
   ]
  },
  {
   "cell_type": "code",
   "execution_count": 19,
   "id": "bcfdfc4f",
   "metadata": {},
   "outputs": [
    {
     "name": "stdout",
     "output_type": "stream",
     "text": [
      "Connected. Call `.close()` to terminate connection gracefully.\n"
     ]
    },
    {
     "name": "stderr",
     "output_type": "stream",
     "text": [
      "Uploading: 100.000%|██████████| 665889/665889 elapsed<00:03 remaining<00:00  2.80it/s]\n",
      "Uploading: 100.000%|██████████| 207/207 elapsed<00:01 remaining<00:00<00:08,  2.01s/it]\n",
      "Model export complete: 100%|██████████| 6/6 [00:11<00:00,  1.89s/it]                   \n"
     ]
    },
    {
     "name": "stdout",
     "output_type": "stream",
     "text": [
      "Model created, explore it at https://c.app.hopsworks.ai:443/p/195733/models/temp_model/6\n"
     ]
    },
    {
     "name": "stderr",
     "output_type": "stream",
     "text": [
      "Uploading: 100.000%|██████████| 815/815 elapsed<00:01 remaining<00:0000:01,  3.09it/s]\n",
      "Uploading: 100.000%|██████████| 207/207 elapsed<00:01 remaining<00:00<00:05,  1.26s/it]\n",
      "Model export complete: 100%|██████████| 6/6 [00:09<00:00,  1.50s/it]                   "
     ]
    },
    {
     "name": "stdout",
     "output_type": "stream",
     "text": [
      "Model created, explore it at https://c.app.hopsworks.ai:443/p/195733/models/temp_scaler/2\n"
     ]
    },
    {
     "name": "stderr",
     "output_type": "stream",
     "text": [
      "\n"
     ]
    },
    {
     "data": {
      "text/plain": [
       "Model(name: 'temp_scaler', version: 2)"
      ]
     },
     "execution_count": 19,
     "metadata": {},
     "output_type": "execute_result"
    }
   ],
   "source": [
    "mr = project.get_model_registry()\n",
    "\n",
    "model_dir=\"temp_model\"\n",
    "if os.path.isdir(model_dir) == False:\n",
    "    os.mkdir(model_dir)\n",
    "\n",
    "scaler_dir=\"temp_scaler\"\n",
    "if os.path.isdir(scaler_dir) == False:\n",
    "    os.mkdir(scaler_dir)\n",
    "\n",
    "# Save both our model and the confusion matrix to 'model_dir', whose contents will be uploaded to the model registry\n",
    "joblib.dump(model, model_dir + \"/temp_model.pkl\")\n",
    "joblib.dump(scaler, scaler_dir + \"/temp_scaler.pkl\")\n",
    "#fig.savefig(model_dir + \"/confusion_matrix.png\")    \n",
    "\n",
    "# Specify the schema of the model's input/output using the features (X_train) and labels (y_train)\n",
    "input_schema = Schema(training_data[0])\n",
    "output_schema = Schema(training_target[0])\n",
    "model_schema = ModelSchema(input_schema, output_schema)\n",
    "\n",
    "# Create an entry in the model registry that includes the model's name, desc, metrics\n",
    "temp_model = mr.python.create_model(\n",
    "    name=\"temp_model\", \n",
    "    metrics={\"mse\" : error_mse},\n",
    "    model_schema=model_schema,\n",
    "    description=\"Temperature Predictor\"\n",
    ")\n",
    "\n",
    "# Upload the model to the model registry, including all files in 'model_dir'\n",
    "temp_model.save(model_dir)\n",
    "\n",
    "# Create an entry in the model registry that includes the model's name, desc, metrics\n",
    "temp_scaler = mr.python.create_model(\n",
    "    name=\"temp_scaler\",\n",
    "    model_schema=model_schema,\n",
    "    description=\"Temperature Predictor Data Scaler\"\n",
    ")\n",
    "\n",
    "# Upload the model to the model registry, including all files in 'model_dir'\n",
    "temp_scaler.save(scaler_dir)"
   ]
  }
 ],
 "metadata": {
  "kernelspec": {
   "display_name": "Python 3 (ipykernel)",
   "language": "python",
   "name": "python3"
  },
  "language_info": {
   "codemirror_mode": {
    "name": "ipython",
    "version": 3
   },
   "file_extension": ".py",
   "mimetype": "text/x-python",
   "name": "python",
   "nbconvert_exporter": "python",
   "pygments_lexer": "ipython3",
   "version": "3.10.13"
  }
 },
 "nbformat": 4,
 "nbformat_minor": 5
}
